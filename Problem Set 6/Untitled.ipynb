{
 "cells": [
  {
   "cell_type": "code",
   "execution_count": null,
   "metadata": {},
   "outputs": [],
   "source": [
    "while True:\n",
    "\n",
    "        # get the time of the state to update\n",
    "        updateTime = time - n\n",
    "        if updateTime >= 0:\n",
    "            returns = 0.0\n",
    "            # calculate corresponding rewards\n",
    "            for t in range(updateTime + 1, min(T, updateTime + n) + 1):\n",
    "                returns += pow(GAMMA, t - updateTime - 1) * rewards[t]\n",
    "            # add state value to the return\n",
    "            if updateTime + n <= T:\n",
    "                returns += pow(GAMMA, n) * stateValues[states[(updateTime + n)]]\n",
    "            stateToUpdate = states[updateTime]\n",
    "            # update the state value\n",
    "            if not stateToUpdate in END_STATES:\n",
    "                stateValues[stateToUpdate] += alpha * (returns - stateValues[stateToUpdate])\n",
    "        if updateTime == T - 1:\n",
    "            break\n",
    "        currentState = newState"
   ]
  }
 ],
 "metadata": {
  "kernelspec": {
   "display_name": "Python 3",
   "language": "python",
   "name": "python3"
  },
  "language_info": {
   "codemirror_mode": {
    "name": "ipython",
    "version": 3
   },
   "file_extension": ".py",
   "mimetype": "text/x-python",
   "name": "python",
   "nbconvert_exporter": "python",
   "pygments_lexer": "ipython3",
   "version": "3.7.1"
  }
 },
 "nbformat": 4,
 "nbformat_minor": 4
}
