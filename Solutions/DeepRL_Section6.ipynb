{
 "cells": [
  {
   "cell_type": "markdown",
   "metadata": {},
   "source": [
    "## CSCI E-89C Deep Reinforcement Learning, Summer 2020\n",
    "### Section 6"
   ]
  },
  {
   "cell_type": "markdown",
   "metadata": {},
   "source": [
    "## Off-policy Monte Carlo (MC) control for estimating $\\pi_*$"
   ]
  },
  {
   "cell_type": "markdown",
   "metadata": {},
   "source": [
    "We consider patients with end-stage liver disease (ESLD). We assume that patient's health condition is fully characterized by the Model for End-stage Liver Disease (MELD) score (Jae-Hyeon Ahn and John Hornberger, Involving patients in the cadaveric kidney transplant allocation process: a decision-theoretic perspective. Manage Sci. 1996;42(5):629–41).\n",
    "\n",
    "The MELD score ranges from 6 to 40 and is derived based on the probability of survival at 3 months for patients with ESLD. Data in ESLD is usually sparse and often aggregated into Stages. We assume that there are 18 stages based on the ESLD: Stage 1, Stage2, ..., Stage 18. The time step is 1 year and the actions in Stages 1 through 18 are \"wait\" (denoted by 0) and \"transplant\" (denoted by 1). \n",
    "\n",
    "We assume that the Markov property holds. There are two additional states of the Markov Decision Process: \"Posttransplant Life\" (denoted by 19) and \"Death\" (which is denoted by 20 and combines so caled \"Pretransplant Death\" and \"Posttransplant Death\"). The only action availible in state \"Posttransplant Life\" is \"wait\" and \"Death\" is the terminal state with no actions. Assume that the length of an episode is T=50, unless it terminates earlier due to the transition to the absorbing state \"Death.\"\n",
    "\n",
    "We do not know the transition probabilities, but if a patient selects \"wait,\" the possible transitions are   \n",
    "1) Stage 1->Stage 1, Stage 1->Stage 2, Stage 1->Death  \n",
    "2) For k in {2,3,4,...17}, Stage k->Stage (k-1), Stage k->Stage k, Stage k->Stage (k+1), Stage k->Death    \n",
    "3) Stage 18->Stage 17, Stage 18->Stage 18, Stage 18->Death    \n",
    "\n",
    "If a patient selects \"transplant\" at Stage k, k=1,2,...,18, the only possible transition is  \n",
    "4) Stage k->\"Posttransplant Life\"\n",
    "\n",
    "Finally, there are two more possible transitions\"  \n",
    "5) \"Posttransplant Life\"->\"Posttransplant Life\" and \"Posttransplant Life\"->\"Death\"  \n",
    "\n",
    "\n",
    "The patient gets reward 1 in all states \"Stage k\" (k=1,2,...,18) and reward 0.2 in the \"Posttransplant Life\" state - assume that the patient gets these rewards on \"exit\" from the states, i.e. after we observe the corresponding stage. We assume the discounting parameter $\\gamma=0.97$, one of the most common discounting rate used in medical decision making (Gold MR, Siegel JE, Russell LB, Weinstein MC. Cost-Effectiveness in Health and Medicine. Oxford University Press; New York: 1996).\n",
    "\n",
    "\n",
    "Please consider statistics on 8,000 patients with ESLD saved in the 'ESLD_statistics.csv' file. Eeach row represents an episode (i.e. one patient) and the columns are the sequences of the patients' states and actions. This data were generated under the behavor policy:\n",
    "\n",
    "$b(1|k)=0.02$ for $k\\in\\{1,2,3,4,5,6,7,8,9,10,11,12,13\\}$;   \n",
    "$b(1|14)=0.05$;   \n",
    "$b(1|15)=0.10$;   \n",
    "$b(1|16)=0.20$;   \n",
    "$b(1|17)=0.40$;  \n",
    "$b(1|18)=0.60$;  \n",
    "\n",
    "which means that, for example, 5% of paients at stage 14 received a transplant.\n",
    "\n",
    "\n",
    "Off-policy MC control for estimating $\\pi_*$ (the weighted importance sampling case):"
   ]
  },
  {
   "cell_type": "code",
   "execution_count": 28,
   "metadata": {},
   "outputs": [],
   "source": [
    "import random\n",
    "from matplotlib import pyplot as plt \n",
    "import numpy as np\n",
    "import pandas as pd"
   ]
  },
  {
   "cell_type": "code",
   "execution_count": 26,
   "metadata": {},
   "outputs": [
    {
     "name": "stdout",
     "output_type": "stream",
     "text": [
      "[[0.98 0.02]\n",
      " [0.98 0.02]\n",
      " [0.98 0.02]\n",
      " [0.98 0.02]\n",
      " [0.98 0.02]\n",
      " [0.98 0.02]\n",
      " [0.98 0.02]\n",
      " [0.98 0.02]\n",
      " [0.98 0.02]\n",
      " [0.98 0.02]\n",
      " [0.98 0.02]\n",
      " [0.98 0.02]\n",
      " [0.98 0.02]\n",
      " [0.95 0.05]\n",
      " [0.9  0.1 ]\n",
      " [0.8  0.2 ]\n",
      " [0.6  0.4 ]\n",
      " [0.4  0.6 ]\n",
      " [1.   0.  ]\n",
      " [1.   0.  ]]\n"
     ]
    }
   ],
   "source": [
    "b = np.empty([20, 2])\n",
    "b[:,:]=0\n",
    "b[:13,] = [0.98, 0.02]\n",
    "b[13,] = [0.95, 0.05]\n",
    "b[14,] = [0.9, 0.1]\n",
    "b[15,] = [0.8, 0.2]\n",
    "b[16,] = [0.6, 0.4]\n",
    "b[17,] = [0.4, 0.6]\n",
    "b[18,] = [1.0, 0.0]\n",
    "b[19,] = [1.0, 0.0]\n",
    "print(b)"
   ]
  },
  {
   "cell_type": "code",
   "execution_count": 32,
   "metadata": {},
   "outputs": [
    {
     "data": {
      "text/html": [
       "<div>\n",
       "<style scoped>\n",
       "    .dataframe tbody tr th:only-of-type {\n",
       "        vertical-align: middle;\n",
       "    }\n",
       "\n",
       "    .dataframe tbody tr th {\n",
       "        vertical-align: top;\n",
       "    }\n",
       "\n",
       "    .dataframe thead th {\n",
       "        text-align: right;\n",
       "    }\n",
       "</style>\n",
       "<table border=\"1\" class=\"dataframe\">\n",
       "  <thead>\n",
       "    <tr style=\"text-align: right;\">\n",
       "      <th></th>\n",
       "      <th>S0</th>\n",
       "      <th>A0</th>\n",
       "      <th>S1</th>\n",
       "      <th>A1</th>\n",
       "      <th>S2</th>\n",
       "      <th>A2</th>\n",
       "      <th>S3</th>\n",
       "      <th>A3</th>\n",
       "      <th>S4</th>\n",
       "      <th>A4</th>\n",
       "      <th>...</th>\n",
       "      <th>A45</th>\n",
       "      <th>S46</th>\n",
       "      <th>A46</th>\n",
       "      <th>S47</th>\n",
       "      <th>A47</th>\n",
       "      <th>S48</th>\n",
       "      <th>A48</th>\n",
       "      <th>S49</th>\n",
       "      <th>A49</th>\n",
       "      <th>S50</th>\n",
       "    </tr>\n",
       "  </thead>\n",
       "  <tbody>\n",
       "    <tr>\n",
       "      <th>0</th>\n",
       "      <td>12</td>\n",
       "      <td>0</td>\n",
       "      <td>12</td>\n",
       "      <td>0</td>\n",
       "      <td>13</td>\n",
       "      <td>0</td>\n",
       "      <td>13</td>\n",
       "      <td>0</td>\n",
       "      <td>20</td>\n",
       "      <td>0</td>\n",
       "      <td>...</td>\n",
       "      <td>0</td>\n",
       "      <td>20</td>\n",
       "      <td>0</td>\n",
       "      <td>20</td>\n",
       "      <td>0</td>\n",
       "      <td>20</td>\n",
       "      <td>0</td>\n",
       "      <td>20</td>\n",
       "      <td>0</td>\n",
       "      <td>20</td>\n",
       "    </tr>\n",
       "    <tr>\n",
       "      <th>1</th>\n",
       "      <td>3</td>\n",
       "      <td>0</td>\n",
       "      <td>3</td>\n",
       "      <td>0</td>\n",
       "      <td>3</td>\n",
       "      <td>0</td>\n",
       "      <td>3</td>\n",
       "      <td>0</td>\n",
       "      <td>3</td>\n",
       "      <td>0</td>\n",
       "      <td>...</td>\n",
       "      <td>0</td>\n",
       "      <td>20</td>\n",
       "      <td>0</td>\n",
       "      <td>20</td>\n",
       "      <td>0</td>\n",
       "      <td>20</td>\n",
       "      <td>0</td>\n",
       "      <td>20</td>\n",
       "      <td>0</td>\n",
       "      <td>20</td>\n",
       "    </tr>\n",
       "    <tr>\n",
       "      <th>2</th>\n",
       "      <td>16</td>\n",
       "      <td>0</td>\n",
       "      <td>16</td>\n",
       "      <td>0</td>\n",
       "      <td>16</td>\n",
       "      <td>1</td>\n",
       "      <td>19</td>\n",
       "      <td>0</td>\n",
       "      <td>19</td>\n",
       "      <td>0</td>\n",
       "      <td>...</td>\n",
       "      <td>0</td>\n",
       "      <td>20</td>\n",
       "      <td>0</td>\n",
       "      <td>20</td>\n",
       "      <td>0</td>\n",
       "      <td>20</td>\n",
       "      <td>0</td>\n",
       "      <td>20</td>\n",
       "      <td>0</td>\n",
       "      <td>20</td>\n",
       "    </tr>\n",
       "    <tr>\n",
       "      <th>3</th>\n",
       "      <td>13</td>\n",
       "      <td>0</td>\n",
       "      <td>13</td>\n",
       "      <td>0</td>\n",
       "      <td>13</td>\n",
       "      <td>0</td>\n",
       "      <td>13</td>\n",
       "      <td>0</td>\n",
       "      <td>14</td>\n",
       "      <td>0</td>\n",
       "      <td>...</td>\n",
       "      <td>0</td>\n",
       "      <td>20</td>\n",
       "      <td>0</td>\n",
       "      <td>20</td>\n",
       "      <td>0</td>\n",
       "      <td>20</td>\n",
       "      <td>0</td>\n",
       "      <td>20</td>\n",
       "      <td>0</td>\n",
       "      <td>20</td>\n",
       "    </tr>\n",
       "    <tr>\n",
       "      <th>4</th>\n",
       "      <td>4</td>\n",
       "      <td>0</td>\n",
       "      <td>4</td>\n",
       "      <td>0</td>\n",
       "      <td>4</td>\n",
       "      <td>0</td>\n",
       "      <td>20</td>\n",
       "      <td>0</td>\n",
       "      <td>20</td>\n",
       "      <td>0</td>\n",
       "      <td>...</td>\n",
       "      <td>0</td>\n",
       "      <td>20</td>\n",
       "      <td>0</td>\n",
       "      <td>20</td>\n",
       "      <td>0</td>\n",
       "      <td>20</td>\n",
       "      <td>0</td>\n",
       "      <td>20</td>\n",
       "      <td>0</td>\n",
       "      <td>20</td>\n",
       "    </tr>\n",
       "  </tbody>\n",
       "</table>\n",
       "<p>5 rows × 101 columns</p>\n",
       "</div>"
      ],
      "text/plain": [
       "   S0  A0  S1  A1  S2  A2  S3  A3  S4  A4  ...  A45  S46  A46  S47  A47  S48  \\\n",
       "0  12   0  12   0  13   0  13   0  20   0  ...    0   20    0   20    0   20   \n",
       "1   3   0   3   0   3   0   3   0   3   0  ...    0   20    0   20    0   20   \n",
       "2  16   0  16   0  16   1  19   0  19   0  ...    0   20    0   20    0   20   \n",
       "3  13   0  13   0  13   0  13   0  14   0  ...    0   20    0   20    0   20   \n",
       "4   4   0   4   0   4   0  20   0  20   0  ...    0   20    0   20    0   20   \n",
       "\n",
       "   A48  S49  A49  S50  \n",
       "0    0   20    0   20  \n",
       "1    0   20    0   20  \n",
       "2    0   20    0   20  \n",
       "3    0   20    0   20  \n",
       "4    0   20    0   20  \n",
       "\n",
       "[5 rows x 101 columns]"
      ]
     },
     "execution_count": 32,
     "metadata": {},
     "output_type": "execute_result"
    }
   ],
   "source": [
    "df = pd.read_csv('data/ESLD_statistics.csv')\n",
    "df.head(5)"
   ]
  },
  {
   "cell_type": "code",
   "execution_count": 89,
   "metadata": {},
   "outputs": [
    {
     "data": {
      "text/plain": [
       "array([16, 16, 16, 19, 19, 19, 19, 19, 19, 19, 19, 19, 19, 19, 19, 19, 19,\n",
       "       19, 19, 19, 19, 20, 20, 20, 20, 20, 20, 20, 20, 20, 20, 20, 20, 20,\n",
       "       20, 20, 20, 20, 20, 20, 20, 20, 20, 20, 20, 20, 20, 20, 20, 20],\n",
       "      dtype=int64)"
      ]
     },
     "execution_count": 89,
     "metadata": {},
     "output_type": "execute_result"
    }
   ],
   "source": [
    "k = 2\n",
    "states = df.values[k,0:-1:2]\n",
    "states"
   ]
  },
  {
   "cell_type": "code",
   "execution_count": 92,
   "metadata": {},
   "outputs": [
    {
     "data": {
      "text/plain": [
       "array([1. , 1. , 1. , 0.2, 0.2, 0.2, 0.2, 0.2, 0.2, 0.2, 0.2, 0.2, 0.2,\n",
       "       0.2, 0.2, 0.2, 0.2, 0.2, 0.2, 0.2, 0.2, 0. , 0. , 0. , 0. , 0. ,\n",
       "       0. , 0. , 0. , 0. , 0. , 0. , 0. , 0. , 0. , 0. , 0. , 0. , 0. ,\n",
       "       0. , 0. , 0. , 0. , 0. , 0. , 0. , 0. , 0. , 0. , 0. ])"
      ]
     },
     "execution_count": 92,
     "metadata": {},
     "output_type": "execute_result"
    }
   ],
   "source": [
    "rewards = (states <= 18)*1 + (states == 19)*0.2\n",
    "rewards"
   ]
  },
  {
   "cell_type": "code",
   "execution_count": 147,
   "metadata": {},
   "outputs": [
    {
     "data": {
      "text/plain": [
       "array([0, 0, 1, 0, 0, 0, 0, 0, 0, 0, 0, 0, 0, 0, 0, 0, 0, 0, 0, 0, 0, 0,\n",
       "       0, 0, 0, 0, 0, 0, 0, 0, 0, 0, 0, 0, 0, 0, 0, 0, 0, 0, 0, 0, 0, 0,\n",
       "       0, 0, 0, 0, 0, 0], dtype=int64)"
      ]
     },
     "execution_count": 147,
     "metadata": {},
     "output_type": "execute_result"
    }
   ],
   "source": [
    "k = 2\n",
    "actions = df.values[k,1::2]\n",
    "actions"
   ]
  },
  {
   "cell_type": "code",
   "execution_count": 98,
   "metadata": {},
   "outputs": [
    {
     "data": {
      "text/plain": [
       "array([0., 0., 0., 0., 0., 0., 0., 0., 0., 0., 0., 0., 0., 0., 0., 0., 0.,\n",
       "       0., 0., 0.])"
      ]
     },
     "execution_count": 98,
     "metadata": {},
     "output_type": "execute_result"
    }
   ],
   "source": [
    "np.zeros(20)"
   ]
  },
  {
   "cell_type": "code",
   "execution_count": 94,
   "metadata": {},
   "outputs": [],
   "source": [
    "def get_episode(df, k):\n",
    "    states = df.values[k,0:-1:2]\n",
    "    actions = df.values[k,1::2]\n",
    "    rewards = (states <= 18)*1 + (states == 19)*0.2\n",
    "    return [states, actions, rewards]"
   ]
  },
  {
   "cell_type": "code",
   "execution_count": 176,
   "metadata": {},
   "outputs": [],
   "source": [
    "gamma = 0.97\n",
    "T = 50\n",
    "num_episodes = df.shape[0]\n",
    "Q = np.zeros((20, 2))\n",
    "C = np.zeros((20, 2))\n",
    "policy = np.zeros(20)\n",
    "\n",
    "for k in range(num_episodes):\n",
    "        episode = get_episode(df, k)\n",
    "        G = 0\n",
    "        W = 1.0\n",
    "        for t in reversed(range(0,T)):\n",
    "            S = episode[0][t]\n",
    "            A = episode[1][t]\n",
    "            R = episode[2][t]\n",
    "            G = gamma*G + R\n",
    "            C[S-1,A] = C[S-1,A] + W\n",
    "            Q[S-1,A] = Q[S-1,A] + W/C[S-1,A]*(G - Q[S-1,A])\n",
    "            policy[S-1] = np.argmax(Q[S-1,:])\n",
    "            if A != policy[S-1]:\n",
    "                break\n",
    "            W = W/b[S-1,A]"
   ]
  },
  {
   "cell_type": "code",
   "execution_count": 177,
   "metadata": {},
   "outputs": [
    {
     "data": {
      "text/plain": [
       "array([0., 0., 0., 0., 0., 0., 0., 0., 0., 0., 0., 0., 0., 0., 0., 0., 1.,\n",
       "       1., 0., 0.])"
      ]
     },
     "execution_count": 177,
     "metadata": {},
     "output_type": "execute_result"
    }
   ],
   "source": [
    "policy"
   ]
  },
  {
   "cell_type": "code",
   "execution_count": 178,
   "metadata": {},
   "outputs": [
    {
     "data": {
      "text/plain": [
       "array([[14.04386711,  2.50709837],\n",
       "       [12.30060841,  2.5653977 ],\n",
       "       [10.11898042,  2.76031117],\n",
       "       [ 8.5337964 ,  2.80124673],\n",
       "       [ 7.50008863,  2.77006538],\n",
       "       [ 6.44066428,  2.60816736],\n",
       "       [ 5.66026235,  2.83090016],\n",
       "       [ 5.34210319,  2.78590844],\n",
       "       [ 4.71337471,  2.65443031],\n",
       "       [ 4.08613482,  2.54168138],\n",
       "       [ 3.74892683,  3.0153909 ],\n",
       "       [ 3.88574364,  2.83798778],\n",
       "       [ 3.24772698,  2.61107184],\n",
       "       [ 3.24685664,  2.69061215],\n",
       "       [ 3.1308385 ,  2.74816766],\n",
       "       [ 3.20223224,  2.74999031],\n",
       "       [ 2.67243911,  2.75961379],\n",
       "       [ 2.42983035,  2.51717334],\n",
       "       [ 1.70551512,  0.        ],\n",
       "       [ 0.        ,  0.        ]])"
      ]
     },
     "execution_count": 178,
     "metadata": {},
     "output_type": "execute_result"
    }
   ],
   "source": [
    "Q"
   ]
  }
 ],
 "metadata": {
  "anaconda-cloud": {},
  "kernelspec": {
   "display_name": "Python 3",
   "language": "python",
   "name": "python3"
  },
  "language_info": {
   "codemirror_mode": {
    "name": "ipython",
    "version": 3
   },
   "file_extension": ".py",
   "mimetype": "text/x-python",
   "name": "python",
   "nbconvert_exporter": "python",
   "pygments_lexer": "ipython3",
   "version": "3.8.3"
  }
 },
 "nbformat": 4,
 "nbformat_minor": 1
}
